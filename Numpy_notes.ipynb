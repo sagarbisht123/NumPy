{
 "cells": [
  {
   "cell_type": "markdown",
   "metadata": {},
   "source": [
    "# NumPy Basics: Arrays and Vectorized computation\n"
   ]
  },
  {
   "cell_type": "markdown",
   "metadata": {},
   "source": [
    "NumPy is a diverse library in python which works with mathematcal computations and deals with the mathematical part of data analysis. We can import the NumPy module by the code <code>import numpy as np</code>. Here the <code>np</code> is the alias given to the NumPy by which we can use the different functions under this module "
   ]
  },
  {
   "cell_type": "markdown",
   "metadata": {},
   "source": [
    "## The NumPy ndarray : A multidimensional array object"
   ]
  },
  {
   "cell_type": "markdown",
   "metadata": {},
   "source": [
    "Firstly, let use understand what is an array. An array is a special type of data type which works with the vectorization. This means while accessing an element in a list or a tuple we have to go through a loop but in case of an array. We don't need to do that. We can access each element of an array by just using that object. \\\n",
    "Let's see a basic difference between a list and an array. "
   ]
  },
  {
   "cell_type": "code",
   "execution_count": 3,
   "metadata": {},
   "outputs": [
    {
     "data": {
      "text/plain": [
       "array([1, 2, 3, 4, 5])"
      ]
     },
     "execution_count": 3,
     "metadata": {},
     "output_type": "execute_result"
    }
   ],
   "source": [
    "import numpy as np\n",
    "List=[1,2,3,4,5] #Declaration of a list\n",
    "#Let's turn it into an array\n",
    "arr=np.array(List)\n",
    "arr"
   ]
  },
  {
   "cell_type": "markdown",
   "metadata": {},
   "source": [
    "An array is many times called as **ndarray**, this is because it is multidimensional in nature. The array could be one dimensioanl or multi dimensional\\\n",
    "We can use <code>array.shape</code> to know about the shape of an array. Let's see some arrays with different dimensions and shapes."
   ]
  },
  {
   "cell_type": "code",
   "execution_count": 14,
   "metadata": {},
   "outputs": [
    {
     "name": "stdout",
     "output_type": "stream",
     "text": [
      "(4,)\n"
     ]
    },
    {
     "data": {
      "text/plain": [
       "array([1, 3, 4, 6])"
      ]
     },
     "execution_count": 14,
     "metadata": {},
     "output_type": "execute_result"
    }
   ],
   "source": [
    "#This is a one dimensional array\n",
    "data_1D=[1,3,4,6]\n",
    "data_1D=np.array(data_1D)\n",
    "\n",
    "print(data_1D.shape)\n",
    "data_1D"
   ]
  },
  {
   "cell_type": "code",
   "execution_count": 15,
   "metadata": {},
   "outputs": [
    {
     "name": "stdout",
     "output_type": "stream",
     "text": [
      "(2, 5)\n"
     ]
    },
    {
     "data": {
      "text/plain": [
       "array([[1, 2, 3, 4, 5],\n",
       "       [4, 5, 6, 7, 8]])"
      ]
     },
     "execution_count": 15,
     "metadata": {},
     "output_type": "execute_result"
    }
   ],
   "source": [
    "#Let us look at a 2D array\n",
    "data2D=[[1,2,3,4,5],[4,5,6,7,8]]\n",
    "data2D=np.array(data2D)\n",
    "print(data2D.shape)\n",
    "data2D"
   ]
  },
  {
   "cell_type": "code",
   "execution_count": 16,
   "metadata": {},
   "outputs": [
    {
     "name": "stdout",
     "output_type": "stream",
     "text": [
      "(3, 4)\n"
     ]
    },
    {
     "data": {
      "text/plain": [
       "array([[1, 2, 3, 4],\n",
       "       [4, 5, 6, 7],\n",
       "       [6, 7, 8, 9]])"
      ]
     },
     "execution_count": 16,
     "metadata": {},
     "output_type": "execute_result"
    }
   ],
   "source": [
    "#A three dimensional array\n",
    "data3D=[[1,2,3,4],[4,5,6,7],[6,7,8,9]]\n",
    "\n",
    "data3D=np.array(data3D)\n",
    "print(data3D.shape)\n",
    "data3D"
   ]
  },
  {
   "cell_type": "markdown",
   "metadata": {},
   "source": [
    "So here we saw some arrays with different dimensions."
   ]
  },
  {
   "cell_type": "markdown",
   "metadata": {},
   "source": [
    "## Creating ndarrays"
   ]
  },
  {
   "cell_type": "markdown",
   "metadata": {},
   "source": [
    "We saw that we can create ndarrays using <code>np.array(<*object*>)</code>. Here the object can be a list, tuple etc. \\ \n",
    "There are more ways in which we can declare a ndarray-:\n",
    "* <code>np.zeros()</code>- Created an ndarray of the given shape filled with only 0 as input\n",
    "* <code>np.ones()</code>-Created an ndarray of the given shape filled with only 1 as input\n",
    "* <code>np.empty()</code>-Created an ndarray of the given shape filled with no input.\n",
    "* <code>np.arange()</code>-Created an 1 dimensional ndarray of the given scalar from the 0 to that number\n"
   ]
  },
  {
   "cell_type": "markdown",
   "metadata": {},
   "source": [
    "Let's see these methods one by one"
   ]
  },
  {
   "cell_type": "code",
   "execution_count": 31,
   "metadata": {},
   "outputs": [
    {
     "name": "stdout",
     "output_type": "stream",
     "text": [
      "[0. 0. 0. 0.]\n",
      "(4,)\n",
      "[[0. 0. 0.]\n",
      " [0. 0. 0.]\n",
      " [0. 0. 0.]\n",
      " [0. 0. 0.]]\n",
      "(4, 3)\n",
      "[[[0. 0. 0. 0. 0.]\n",
      "  [0. 0. 0. 0. 0.]\n",
      "  [0. 0. 0. 0. 0.]\n",
      "  [0. 0. 0. 0. 0.]]\n",
      "\n",
      " [[0. 0. 0. 0. 0.]\n",
      "  [0. 0. 0. 0. 0.]\n",
      "  [0. 0. 0. 0. 0.]\n",
      "  [0. 0. 0. 0. 0.]]\n",
      "\n",
      " [[0. 0. 0. 0. 0.]\n",
      "  [0. 0. 0. 0. 0.]\n",
      "  [0. 0. 0. 0. 0.]\n",
      "  [0. 0. 0. 0. 0.]]]\n",
      "(3, 4, 5)\n"
     ]
    }
   ],
   "source": [
    "#Creating !d array with np.zeros\n",
    "zeros=np.zeros(4)\n",
    "print(zeros)\n",
    "print(zeros.shape)\n",
    "\n",
    "#Creating 2d arrays\n",
    "zeros2d=np.zeros((4,3))\n",
    "print(zeros2d)\n",
    "print(zeros2d.shape)\n",
    "\n",
    "#Creating 3d arrays\n",
    "zeros3d=np.zeros((3,4,5))\n",
    "print(zeros3d)\n",
    "print(zeros3d.shape)"
   ]
  },
  {
   "cell_type": "markdown",
   "metadata": {},
   "source": [
    "Let's do it for <code>np.ones()</code>."
   ]
  },
  {
   "cell_type": "code",
   "execution_count": 32,
   "metadata": {},
   "outputs": [
    {
     "name": "stdout",
     "output_type": "stream",
     "text": [
      "[1. 1. 1. 1.]\n",
      "(4,)\n",
      "[[1. 1. 1.]\n",
      " [1. 1. 1.]\n",
      " [1. 1. 1.]\n",
      " [1. 1. 1.]]\n",
      "(4, 3)\n",
      "[[[1. 1. 1. 1. 1.]\n",
      "  [1. 1. 1. 1. 1.]\n",
      "  [1. 1. 1. 1. 1.]\n",
      "  [1. 1. 1. 1. 1.]]\n",
      "\n",
      " [[1. 1. 1. 1. 1.]\n",
      "  [1. 1. 1. 1. 1.]\n",
      "  [1. 1. 1. 1. 1.]\n",
      "  [1. 1. 1. 1. 1.]]\n",
      "\n",
      " [[1. 1. 1. 1. 1.]\n",
      "  [1. 1. 1. 1. 1.]\n",
      "  [1. 1. 1. 1. 1.]\n",
      "  [1. 1. 1. 1. 1.]]]\n",
      "(3, 4, 5)\n"
     ]
    }
   ],
   "source": [
    "#Creating !d array with np.ones\n",
    "ones=np.ones(4)\n",
    "print(ones)\n",
    "print(ones.shape)\n",
    "\n",
    "#Creating 2d arrays\n",
    "ones2d=np.ones((4,3))\n",
    "print(ones2d)\n",
    "print(ones2d.shape)\n",
    "\n",
    "#Creating 3d arrays\n",
    "ones3d=np.ones((3,4,5))\n",
    "print(ones3d)\n",
    "print(ones3d.shape)"
   ]
  },
  {
   "cell_type": "markdown",
   "metadata": {},
   "source": [
    "## Data Types for ndarrays"
   ]
  },
  {
   "cell_type": "markdown",
   "metadata": {},
   "source": [
    "NumPy module has different **dtype** like **float64** , **int32** etc. <br>\n",
    "The data type makes the ndarray how it should be interpreted as a chunk of memory. Let us declare array with their dtypes."
   ]
  },
  {
   "cell_type": "markdown",
   "metadata": {},
   "source": [
    "![dtypes in NumPy](\\n1.png)"
   ]
  },
  {
   "cell_type": "markdown",
   "metadata": {},
   "source": [
    "The number against each dtype shows the bits of memory it is consuming. </br>\n",
    "Let's declare an array with it's dtype. </br>\n",
    "Firstly, with <code>dtype=np.float64</code> and then by <code>dtype=np.int32</code>"
   ]
  },
  {
   "cell_type": "code",
   "execution_count": 35,
   "metadata": {},
   "outputs": [
    {
     "data": {
      "text/plain": [
       "array([1., 2., 3.])"
      ]
     },
     "execution_count": 35,
     "metadata": {},
     "output_type": "execute_result"
    }
   ],
   "source": [
    "arr1=np.array([1,2,3],dtype=np.float64)\n",
    "arr1"
   ]
  },
  {
   "cell_type": "code",
   "execution_count": 36,
   "metadata": {},
   "outputs": [
    {
     "data": {
      "text/plain": [
       "array([1, 2, 3])"
      ]
     },
     "execution_count": 36,
     "metadata": {},
     "output_type": "execute_result"
    }
   ],
   "source": [
    "arr2=np.array([1,2,3],dtype=np.int32)\n",
    "arr2"
   ]
  },
  {
   "cell_type": "markdown",
   "metadata": {},
   "source": [
    "## Type casting in Data types"
   ]
  },
  {
   "cell_type": "markdown",
   "metadata": {},
   "source": [
    "We can convert the data types implicitly or explicitly. Let's change the data type implicitly."
   ]
  },
  {
   "cell_type": "code",
   "execution_count": 41,
   "metadata": {},
   "outputs": [
    {
     "data": {
      "text/plain": [
       "dtype('float64')"
      ]
     },
     "execution_count": 41,
     "metadata": {},
     "output_type": "execute_result"
    }
   ],
   "source": [
    "arr1=np.array([1,2,3],dtype=np.float64)\n",
    "arr2=np.array([3,2,1],dtype=np.int32)\n",
    "arr3=arr2+arr1\n",
    "arr3.dtype"
   ]
  },
  {
   "cell_type": "markdown",
   "metadata": {},
   "source": [
    "In the above example we can see that the **arr1** and **arr2** had <code>dtype</code> of <code>float64</code> and <code>int32</code> but when they both were added the resultant **arr3** had dtype of <code>float64</code>."
   ]
  },
  {
   "cell_type": "markdown",
   "metadata": {},
   "source": [
    "Now, let us do explicit type casting of ndarray. For this we will use the following syntax <code><*array*>.dtype(<*dtype*>)</code>"
   ]
  },
  {
   "cell_type": "code",
   "execution_count": 49,
   "metadata": {},
   "outputs": [
    {
     "data": {
      "text/plain": [
       "dtype('float64')"
      ]
     },
     "execution_count": 49,
     "metadata": {},
     "output_type": "execute_result"
    }
   ],
   "source": [
    "arr1=np.array([2,3,4,5],dtype=np.int64) #Declaration of a nd.array\n",
    "new_arr=arr.astype(np.float64) #Explicit type casting of arr\n",
    "new_arr.dtype"
   ]
  },
  {
   "cell_type": "code",
   "execution_count": 50,
   "metadata": {},
   "outputs": [
    {
     "data": {
      "text/plain": [
       "dtype('int32')"
      ]
     },
     "execution_count": 50,
     "metadata": {},
     "output_type": "execute_result"
    }
   ],
   "source": [
    "arr2=np.array([5,6,7,8],dtype=np.float64) #Declaration of an array of dtype \"float64\"\n",
    "new_arr2=arr.astype(np.int32) #Explicit type casting of arr2\n",
    "new_arr2.dtype"
   ]
  },
  {
   "cell_type": "markdown",
   "metadata": {},
   "source": [
    "## Arithmetic with NumPy arrays"
   ]
  },
  {
   "cell_type": "markdown",
   "metadata": {},
   "source": [
    "NumPy is a great modules to deal with arithmetics calculations and the reason behind it is very simple that is NumPy uses **vectorization**. That is it can do element wise operations without iterations or using any loop."
   ]
  },
  {
   "cell_type": "markdown",
   "metadata": {},
   "source": [
    "Let's have a look on some examples.\n",
    "* Operation on 2D array\n",
    "* Array with a scalar\n",
    "* Comparison between two same sized arrays."
   ]
  },
  {
   "cell_type": "code",
   "execution_count": 60,
   "metadata": {},
   "outputs": [
    {
     "name": "stdout",
     "output_type": "stream",
     "text": [
      "[[0 1 2]\n",
      " [3 4 5]]\n",
      "[[ 0  1  4]\n",
      " [ 9 16 25]]\n",
      "[[ 0  1  4]\n",
      " [ 9 16 25]]\n",
      "[[0 0 0]\n",
      " [0 0 0]]\n",
      "[[0.         1.         1.41421356]\n",
      " [1.73205081 2.         2.23606798]]\n",
      "[[       inf 1.         0.5       ]\n",
      " [0.33333333 0.25       0.2       ]]\n",
      "[[2 3 4]\n",
      " [5 6 7]]\n"
     ]
    },
    {
     "name": "stderr",
     "output_type": "stream",
     "text": [
      "C:\\Users\\Sagar Bisht\\AppData\\Local\\Temp\\ipykernel_14956\\3420160732.py:14: RuntimeWarning: divide by zero encountered in divide\n",
      "  print(1/arr)\n"
     ]
    },
    {
     "data": {
      "text/plain": [
       "array([[ True,  True,  True],\n",
       "       [ True,  True,  True]])"
      ]
     },
     "execution_count": 60,
     "metadata": {},
     "output_type": "execute_result"
    }
   ],
   "source": [
    "#Operation on 2D arrays\n",
    "arr=np.arange(6).reshape((2,3))\n",
    "print(arr)\n",
    "\n",
    "#Squaring of each element\n",
    "print(arr*arr)\n",
    "print(arr**2)\n",
    "\n",
    "print(arr-arr)\n",
    "\n",
    "print(arr**0.5) #Square root of each element in an array.\n",
    "\n",
    "#Operations on a scalar\n",
    "print(1/arr)\n",
    "print(arr+2)\n",
    "\n",
    "#Comparison between two same sized arrays\n",
    "arr2=np.arange(2,8).reshape((2,3))\n",
    "arr2>arr"
   ]
  },
  {
   "cell_type": "markdown",
   "metadata": {},
   "source": [
    "## Indexing and Slicing"
   ]
  },
  {
   "cell_type": "markdown",
   "metadata": {},
   "source": [
    "The indexing and slicing in the ndarrays are very useful when we want to deal with only a part of data.\n",
    "* Accessing by index\n",
    "* Slicing by indices\n",
    "* Assigning a scalar value to a slice of an array\n",
    "* Indexing in a multidimensional array </br>\n",
    "Let's see them one by one."
   ]
  },
  {
   "cell_type": "code",
   "execution_count": 61,
   "metadata": {},
   "outputs": [
    {
     "data": {
      "text/plain": [
       "4"
      ]
     },
     "execution_count": 61,
     "metadata": {},
     "output_type": "execute_result"
    }
   ],
   "source": [
    "#Accessing an element by index\n",
    "arr=np.array([2,32,4,5])\n",
    "arr[2]"
   ]
  },
  {
   "cell_type": "code",
   "execution_count": 63,
   "metadata": {},
   "outputs": [
    {
     "data": {
      "text/plain": [
       "array([67, 89])"
      ]
     },
     "execution_count": 63,
     "metadata": {},
     "output_type": "execute_result"
    }
   ],
   "source": [
    "#Slicing by indices\n",
    "arr=np.array([23,45,67,89,21,45,65,12,45,81])\n",
    "new_arr=arr[2:4] #Sliced array\n",
    "new_arr"
   ]
  },
  {
   "cell_type": "code",
   "execution_count": 66,
   "metadata": {},
   "outputs": [
    {
     "data": {
      "text/plain": [
       "array([ 0,  1, 46, 46, 46, 46, 46,  7,  8,  9, 10, 11, 12])"
      ]
     },
     "execution_count": 66,
     "metadata": {},
     "output_type": "execute_result"
    }
   ],
   "source": [
    "#Assigning a scalar value to a slice of an array\n",
    "arr=np.arange(13)\n",
    "arr[2:7]=46 #Assigning a scalar to a sliced array\n",
    "arr\n"
   ]
  },
  {
   "cell_type": "markdown",
   "metadata": {},
   "source": [
    "Interestingly, the modifications that we make in a slice change the actual data of the unsliced array.</br>\n",
    "If in case we want a data not to be changed when we make a modification in a slice of an array then in that case we will have to make a copy of the array by using <code><*array*>[:].copy()</code>. </br>\n",
    "Let us see that in the next cell."
   ]
  },
  {
   "cell_type": "code",
   "execution_count": 68,
   "metadata": {},
   "outputs": [
    {
     "name": "stdout",
     "output_type": "stream",
     "text": [
      "[ 0  1  2 12 12 12 12  7  8  9 10 11 12 13 14 15]\n",
      "[ 0  1  2  3  4  5  6  7  8  9 10 11 12 13 14 15]\n"
     ]
    }
   ],
   "source": [
    "#Declaring an array \n",
    "arr=np.arange(16)\n",
    "arr_copy=arr.copy() #Making of the copy of the array\n",
    "arr[3:7]=12         #Sliced array given a scalar value\n",
    "print(arr)\n",
    "print(arr_copy)"
   ]
  },
  {
   "cell_type": "code",
   "execution_count": 70,
   "metadata": {},
   "outputs": [
    {
     "data": {
      "text/plain": [
       "array([[0, 1, 2],\n",
       "       [3, 4, 5],\n",
       "       [6, 7, 8]])"
      ]
     },
     "execution_count": 70,
     "metadata": {},
     "output_type": "execute_result"
    }
   ],
   "source": [
    "#Indexing and accessing a value in a multi-dimensional array\n",
    "array=np.arange(9).reshape(3,3)\n",
    "array"
   ]
  },
  {
   "cell_type": "markdown",
   "metadata": {},
   "source": [
    "In a multidimensional array we can access a value in a row by the basic pythonic accessing. For example <code><*array*>[row][column]</code> but in NumPy ndarray we can access the value by a more comfortable way <code><*array*>[row,column]</code>. </br>\n",
    "Let us see this by the following example."
   ]
  },
  {
   "cell_type": "code",
   "execution_count": 72,
   "metadata": {},
   "outputs": [
    {
     "name": "stdout",
     "output_type": "stream",
     "text": [
      "2\n",
      "2\n"
     ]
    }
   ],
   "source": [
    "array\n",
    "print(array[0][2])\n",
    "print(array[0,2])"
   ]
  },
  {
   "cell_type": "markdown",
   "metadata": {},
   "source": [
    "![](\\n2.png)"
   ]
  },
  {
   "cell_type": "markdown",
   "metadata": {},
   "source": [
    "## Accessing 1D array from multidimensional array"
   ]
  },
  {
   "cell_type": "code",
   "execution_count": 75,
   "metadata": {},
   "outputs": [
    {
     "data": {
      "text/plain": [
       "array([[ 0,  1,  2,  3],\n",
       "       [ 4,  5,  6,  7],\n",
       "       [ 8,  9, 10, 11],\n",
       "       [12, 13, 14, 15],\n",
       "       [16, 17, 18, 19],\n",
       "       [20, 21, 22, 23],\n",
       "       [24, 25, 26, 27],\n",
       "       [28, 29, 30, 31]])"
      ]
     },
     "execution_count": 75,
     "metadata": {},
     "output_type": "execute_result"
    }
   ],
   "source": [
    "new_arr=np.arange(32).reshape(8,4)\n",
    "new_arr\n"
   ]
  },
  {
   "cell_type": "code",
   "execution_count": 76,
   "metadata": {},
   "outputs": [
    {
     "data": {
      "text/plain": [
       "array([4, 5, 6, 7])"
      ]
     },
     "execution_count": 76,
     "metadata": {},
     "output_type": "execute_result"
    }
   ],
   "source": [
    "#Accessing 1D array from multidimensional array\n",
    "new_arr[1]"
   ]
  },
  {
   "cell_type": "markdown",
   "metadata": {},
   "source": [
    "## Indexing with slicing"
   ]
  },
  {
   "cell_type": "markdown",
   "metadata": {},
   "source": [
    "Let us see how we can do different sort of slicing."
   ]
  },
  {
   "cell_type": "code",
   "execution_count": 79,
   "metadata": {},
   "outputs": [
    {
     "data": {
      "text/plain": [
       "array([0, 1, 2, 3, 4])"
      ]
     },
     "execution_count": 79,
     "metadata": {},
     "output_type": "execute_result"
    }
   ],
   "source": [
    "#Basic slicing\n",
    "array=np.arange(9)\n",
    "array[0:5]"
   ]
  },
  {
   "cell_type": "code",
   "execution_count": 83,
   "metadata": {},
   "outputs": [
    {
     "data": {
      "text/plain": [
       "array([[ 0,  1,  2,  3],\n",
       "       [ 4,  5,  6,  7],\n",
       "       [ 8,  9, 10, 11]])"
      ]
     },
     "execution_count": 83,
     "metadata": {},
     "output_type": "execute_result"
    }
   ],
   "source": [
    "#Operation on a 2D array\n",
    "array=np.arange(12).reshape((3,4))\n",
    "array"
   ]
  },
  {
   "cell_type": "code",
   "execution_count": 86,
   "metadata": {},
   "outputs": [
    {
     "data": {
      "text/plain": [
       "array([[0, 1, 2, 3],\n",
       "       [4, 5, 6, 7]])"
      ]
     },
     "execution_count": 86,
     "metadata": {},
     "output_type": "execute_result"
    }
   ],
   "source": [
    "array[0:2]"
   ]
  },
  {
   "cell_type": "code",
   "execution_count": 88,
   "metadata": {},
   "outputs": [
    {
     "data": {
      "text/plain": [
       "array([[0, 1, 2],\n",
       "       [4, 5, 6]])"
      ]
     },
     "execution_count": 88,
     "metadata": {},
     "output_type": "execute_result"
    }
   ],
   "source": [
    "array[0:2, :3]"
   ]
  },
  {
   "cell_type": "code",
   "execution_count": 89,
   "metadata": {},
   "outputs": [
    {
     "data": {
      "text/plain": [
       "array([[ 1,  2,  3],\n",
       "       [ 5,  6,  7],\n",
       "       [ 9, 10, 11]])"
      ]
     },
     "execution_count": 89,
     "metadata": {},
     "output_type": "execute_result"
    }
   ],
   "source": [
    "array[0:3, 1:]"
   ]
  },
  {
   "cell_type": "markdown",
   "metadata": {},
   "source": [
    "## Boolean Indexing"
   ]
  },
  {
   "cell_type": "markdown",
   "metadata": {},
   "source": [
    "Boolean indexing refers to the using of boolean values <code>True, False</code> to access the values. The <code>True</code> usually when used as an index refers to the value which is to be accessed and the bool <code>False</code> usually means which is not be iterated. </br>\n",
    "Let's understand this with examples"
   ]
  },
  {
   "cell_type": "code",
   "execution_count": 94,
   "metadata": {},
   "outputs": [
    {
     "data": {
      "text/plain": [
       "array([45, 65, 47, 67])"
      ]
     },
     "execution_count": 94,
     "metadata": {},
     "output_type": "execute_result"
    }
   ],
   "source": [
    "data=np.array([23,45,65,47,67,18])\n",
    "data[data>40]"
   ]
  },
  {
   "cell_type": "markdown",
   "metadata": {},
   "source": [
    "In the above example we have passed a boolean expression as the index and the value for which it gives <code>True</code> passes as an index."
   ]
  },
  {
   "cell_type": "code",
   "execution_count": 97,
   "metadata": {},
   "outputs": [
    {
     "data": {
      "text/plain": [
       "array([ True, False,  True, False, False,  True])"
      ]
     },
     "execution_count": 97,
     "metadata": {},
     "output_type": "execute_result"
    }
   ],
   "source": [
    "beast=np.array([\"bull\",\"goat\",\"bull\",\"lion\",\"elephant\",\"bull\"])\n",
    "beast==\"bull\""
   ]
  },
  {
   "cell_type": "markdown",
   "metadata": {},
   "source": [
    "In the above expression we have produced an array with boolean values. Now this array can be used to access the values of other array by the bool values inside the array."
   ]
  },
  {
   "cell_type": "code",
   "execution_count": 99,
   "metadata": {},
   "outputs": [
    {
     "data": {
      "text/plain": [
       "array([1, 3, 6])"
      ]
     },
     "execution_count": 99,
     "metadata": {},
     "output_type": "execute_result"
    }
   ],
   "source": [
    "data=np.arange(1,7)\n",
    "data[beast==\"bull\"]"
   ]
  },
  {
   "cell_type": "markdown",
   "metadata": {},
   "source": [
    "In the case above the boolean array must be of the same size of the the data array."
   ]
  },
  {
   "cell_type": "code",
   "execution_count": 103,
   "metadata": {},
   "outputs": [
    {
     "name": "stdout",
     "output_type": "stream",
     "text": [
      "[2 4 5]\n",
      "[2 4 5]\n"
     ]
    }
   ],
   "source": [
    "# Using \"!=\" and ~condition\n",
    "data=np.arange(1,7)\n",
    "print(data[beast!=\"bull\"])\n",
    "print(data[~(beast==\"bull\")])"
   ]
  },
  {
   "cell_type": "markdown",
   "metadata": {},
   "source": [
    "## Fancy Indexing\n",
    "\n"
   ]
  },
  {
   "cell_type": "markdown",
   "metadata": {},
   "source": [
    "It is a type of indexing in which integer arrays are used as indices."
   ]
  },
  {
   "cell_type": "code",
   "execution_count": 106,
   "metadata": {},
   "outputs": [
    {
     "data": {
      "text/plain": [
       "array([[0., 0., 0., 0.],\n",
       "       [1., 1., 1., 1.],\n",
       "       [2., 2., 2., 2.],\n",
       "       [3., 3., 3., 3.],\n",
       "       [4., 4., 4., 4.],\n",
       "       [5., 5., 5., 5.],\n",
       "       [6., 6., 6., 6.],\n",
       "       [7., 7., 7., 7.]])"
      ]
     },
     "execution_count": 106,
     "metadata": {},
     "output_type": "execute_result"
    }
   ],
   "source": [
    "#Firstly let us declare an array.\n",
    "arr=np.empty((8,4))\n",
    "for i in range(8):\n",
    "    arr[i]=i  \n",
    "arr"
   ]
  },
  {
   "cell_type": "code",
   "execution_count": 107,
   "metadata": {},
   "outputs": [
    {
     "data": {
      "text/plain": [
       "array([[4., 4., 4., 4.],\n",
       "       [3., 3., 3., 3.],\n",
       "       [0., 0., 0., 0.],\n",
       "       [6., 6., 6., 6.]])"
      ]
     },
     "execution_count": 107,
     "metadata": {},
     "output_type": "execute_result"
    }
   ],
   "source": [
    "arr[[4,3,0,6]] #Passing array of integer as indices"
   ]
  },
  {
   "cell_type": "code",
   "execution_count": 108,
   "metadata": {},
   "outputs": [
    {
     "data": {
      "text/plain": [
       "array([[5., 5., 5., 5.],\n",
       "       [3., 3., 3., 3.],\n",
       "       [1., 1., 1., 1.]])"
      ]
     },
     "execution_count": 108,
     "metadata": {},
     "output_type": "execute_result"
    }
   ],
   "source": [
    "arr[[-3,-5,-7]]"
   ]
  },
  {
   "cell_type": "code",
   "execution_count": 110,
   "metadata": {},
   "outputs": [
    {
     "data": {
      "text/plain": [
       "array([[ 0,  1,  2,  3],\n",
       "       [ 4,  5,  6,  7],\n",
       "       [ 8,  9, 10, 11],\n",
       "       [12, 13, 14, 15]])"
      ]
     },
     "execution_count": 110,
     "metadata": {},
     "output_type": "execute_result"
    }
   ],
   "source": [
    "#Passing a multi-dimensional array\n",
    "arr=np.arange(16).reshape((4,4))\n",
    "arr"
   ]
  },
  {
   "cell_type": "code",
   "execution_count": 112,
   "metadata": {},
   "outputs": [
    {
     "name": "stdout",
     "output_type": "stream",
     "text": [
      "6\n",
      "[[ 4  5  6  7]\n",
      " [ 8  9 10 11]]\n"
     ]
    }
   ],
   "source": [
    "print(arr[1,2]) #Passing indices \n",
    "print(arr[[1,2]]) #Passing an array of indices"
   ]
  },
  {
   "cell_type": "code",
   "execution_count": 114,
   "metadata": {},
   "outputs": [
    {
     "data": {
      "text/plain": [
       "array([ 6, 11])"
      ]
     },
     "execution_count": 114,
     "metadata": {},
     "output_type": "execute_result"
    }
   ],
   "source": [
    "#Passing multiple arrays as indices\n",
    "arr[[1,2],[2,3]]"
   ]
  },
  {
   "cell_type": "markdown",
   "metadata": {},
   "source": [
    "## Transposing arrays "
   ]
  },
  {
   "cell_type": "markdown",
   "metadata": {},
   "source": [
    "In ndarrays the axes can be transposed. This actually means that shape gets inverted. </br>\n",
    "For a 2D array <code><*array*>.T</code>. This syntax is used to transpose the axes and invert the shape from <code>(x,y)</code> to <code>(y,x)</code> "
   ]
  },
  {
   "cell_type": "code",
   "execution_count": 116,
   "metadata": {},
   "outputs": [
    {
     "data": {
      "text/plain": [
       "array([[0, 1],\n",
       "       [2, 3],\n",
       "       [4, 5],\n",
       "       [6, 7]])"
      ]
     },
     "execution_count": 116,
     "metadata": {},
     "output_type": "execute_result"
    }
   ],
   "source": [
    "arr=np.arange(8).reshape((4,2))\n",
    "arr"
   ]
  },
  {
   "cell_type": "code",
   "execution_count": 118,
   "metadata": {},
   "outputs": [
    {
     "name": "stdout",
     "output_type": "stream",
     "text": [
      "[[0 2 4 6]\n",
      " [1 3 5 7]]\n",
      "(2, 4)\n"
     ]
    }
   ],
   "source": [
    "print(arr.T)\n",
    "print(arr.T.shape)"
   ]
  },
  {
   "cell_type": "markdown",
   "metadata": {},
   "source": [
    "If in case it is not a 2D array then for transposing we can do <code><*array*>.transpose()</code>. It also can take input like inverting the order of which axes. </br>\n",
    "Let us see an example of that"
   ]
  },
  {
   "cell_type": "code",
   "execution_count": 124,
   "metadata": {},
   "outputs": [
    {
     "data": {
      "text/plain": [
       "array([[[ 0,  1,  2],\n",
       "        [ 3,  4,  5]],\n",
       "\n",
       "       [[ 6,  7,  8],\n",
       "        [ 9, 10, 11]],\n",
       "\n",
       "       [[12, 13, 14],\n",
       "        [15, 16, 17]],\n",
       "\n",
       "       [[18, 19, 20],\n",
       "        [21, 22, 23]],\n",
       "\n",
       "       [[24, 25, 26],\n",
       "        [27, 28, 29]],\n",
       "\n",
       "       [[30, 31, 32],\n",
       "        [33, 34, 35]],\n",
       "\n",
       "       [[36, 37, 38],\n",
       "        [39, 40, 41]]])"
      ]
     },
     "execution_count": 124,
     "metadata": {},
     "output_type": "execute_result"
    }
   ],
   "source": [
    "#Declaring a multi-dimensional array\n",
    "arr=np.arange(42).reshape((7,2,3))\n",
    "arr"
   ]
  },
  {
   "cell_type": "code",
   "execution_count": 125,
   "metadata": {},
   "outputs": [
    {
     "name": "stdout",
     "output_type": "stream",
     "text": [
      "[[[ 0  6 12 18 24 30 36]\n",
      "  [ 3  9 15 21 27 33 39]]\n",
      "\n",
      " [[ 1  7 13 19 25 31 37]\n",
      "  [ 4 10 16 22 28 34 40]]\n",
      "\n",
      " [[ 2  8 14 20 26 32 38]\n",
      "  [ 5 11 17 23 29 35 41]]]\n",
      "(3, 2, 7)\n"
     ]
    }
   ],
   "source": [
    "print(arr.transpose())\n",
    "print(arr.transpose().shape)"
   ]
  },
  {
   "cell_type": "markdown",
   "metadata": {},
   "source": [
    "As in the above example the shape has become (z,y,x) from (x,y,z)</br>\n",
    "If we just want to interchange x and y axes then we can do it as below"
   ]
  },
  {
   "cell_type": "code",
   "execution_count": 126,
   "metadata": {},
   "outputs": [
    {
     "name": "stdout",
     "output_type": "stream",
     "text": [
      "[[[ 0  1  2]\n",
      "  [ 6  7  8]\n",
      "  [12 13 14]\n",
      "  [18 19 20]\n",
      "  [24 25 26]\n",
      "  [30 31 32]\n",
      "  [36 37 38]]\n",
      "\n",
      " [[ 3  4  5]\n",
      "  [ 9 10 11]\n",
      "  [15 16 17]\n",
      "  [21 22 23]\n",
      "  [27 28 29]\n",
      "  [33 34 35]\n",
      "  [39 40 41]]]\n",
      "(3, 2, 7)\n"
     ]
    }
   ],
   "source": [
    "print(arr.transpose(1,0,2))\n",
    "print(arr.transpose().shape)"
   ]
  },
  {
   "cell_type": "markdown",
   "metadata": {},
   "source": [
    "## Universal Functions "
   ]
  },
  {
   "cell_type": "markdown",
   "metadata": {},
   "source": [
    "NumPy has Universal functions. These can be unary (taking one argument as input) or binary (taking two arguments as input)."
   ]
  },
  {
   "cell_type": "markdown",
   "metadata": {},
   "source": [
    "Let's look at some universal functions\n",
    "* <code>np.sqrt(arr)</code>\n",
    "* <code>np.modf(arr)</code>- A unary function which gives two outputs a the greatest integer part and the fractional part\n",
    "* <code>np.exp(arr)</code>\n",
    "* <code>np.maximum(x,y)</code>- A binary function"
   ]
  },
  {
   "cell_type": "markdown",
   "metadata": {},
   "source": [
    "## Mathematical  and Statistical Methods"
   ]
  },
  {
   "cell_type": "markdown",
   "metadata": {},
   "source": [
    "* <code>arr.mean()</code> The axis is the optional argument\n",
    "* <code>arr.sum()</code>  The axis is the optional argument\n",
    "* <code>arr.cumsum()</code> The axis is the optional argument\n",
    "* <code>arr.cumprod()</code>The axis is the optional argument\n"
   ]
  },
  {
   "cell_type": "markdown",
   "metadata": {},
   "source": [
    "## Methods for boolean arrays"
   ]
  },
  {
   "cell_type": "markdown",
   "metadata": {},
   "source": [
    "* <code>(arr>0).sum()</code>-The <code>True</code> is considered as 1 and the <code>False</code> as 0 and the sum is calculated.\n",
    "* <code>bools.any()</code>-Returns <code>True</code> if there is even a single <code>True</code> value.\n",
    "* <code>bools.all()</code>-Returns <code>True</code> if there are all values are <code>True</code>. "
   ]
  }
 ],
 "metadata": {
  "kernelspec": {
   "display_name": "Python 3",
   "language": "python",
   "name": "python3"
  },
  "language_info": {
   "codemirror_mode": {
    "name": "ipython",
    "version": 3
   },
   "file_extension": ".py",
   "mimetype": "text/x-python",
   "name": "python",
   "nbconvert_exporter": "python",
   "pygments_lexer": "ipython3",
   "version": "3.12.1"
  }
 },
 "nbformat": 4,
 "nbformat_minor": 2
}
