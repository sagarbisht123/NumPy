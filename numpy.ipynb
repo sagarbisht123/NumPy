{
 "cells": [
  {
   "cell_type": "code",
   "execution_count": 1,
   "metadata": {},
   "outputs": [
    {
     "name": "stdout",
     "output_type": "stream",
     "text": [
      "Defaulting to user installation because normal site-packages is not writeable\n",
      "Requirement already satisfied: numpy in c:\\users\\sagar bisht\\appdata\\roaming\\python\\python312\\site-packages (1.26.4)\n"
     ]
    },
    {
     "name": "stderr",
     "output_type": "stream",
     "text": [
      "\n",
      "[notice] A new release of pip is available: 23.2.1 -> 24.0\n",
      "[notice] To update, run: python.exe -m pip install --upgrade pip\n"
     ]
    }
   ],
   "source": [
    "!pip install numpy \n"
   ]
  },
  {
   "cell_type": "code",
   "execution_count": 2,
   "metadata": {},
   "outputs": [
    {
     "data": {
      "text/plain": [
       "dtype('float64')"
      ]
     },
     "execution_count": 2,
     "metadata": {},
     "output_type": "execute_result"
    }
   ],
   "source": [
    "import numpy as np\n",
    "kanto=np.array([23.0,34.0,67.0])\n",
    "weights=np.array([45,56,78])\n",
    "kanto.dtype "
   ]
  },
  {
   "cell_type": "code",
   "execution_count": 3,
   "metadata": {},
   "outputs": [
    {
     "data": {
      "text/plain": [
       "(3, 0)"
      ]
     },
     "execution_count": 3,
     "metadata": {},
     "output_type": "execute_result"
    }
   ],
   "source": [
    "climate_data=np.array([[],[],[]])\n",
    "climate_data.shape"
   ]
  },
  {
   "cell_type": "code",
   "execution_count": 4,
   "metadata": {},
   "outputs": [
    {
     "name": "stdout",
     "output_type": "stream",
     "text": [
      "[76.9 81.9 57.7 74.9]\n"
     ]
    }
   ],
   "source": [
    "# 3D array\n",
    "arr3 = np.array([\n",
    "                [91, 88, 64],\n",
    "                         [87, 134, 58],\n",
    "                         [102, 43, 37],\n",
    "                         [69, 96, 70]])\n",
    "weights=np.array([0.3,0.2,0.5])\n",
    "\n",
    "a=np.matmul(arr3,weights)\n",
    "print(a)"
   ]
  },
  {
   "cell_type": "code",
   "execution_count": 5,
   "metadata": {},
   "outputs": [
    {
     "name": "stdout",
     "output_type": "stream",
     "text": [
      "[76.9 81.9 57.7 74.9]\n"
     ]
    }
   ],
   "source": [
    "arr3 = np.array([\n",
    "                [91, 88, 64],\n",
    "                         [87, 134, 58],\n",
    "                         [102, 43, 37],\n",
    "                         [69, 96, 70]])\n",
    "weights=np.array([0.3,0.2,0.5])\n",
    "print(arr3@weights)"
   ]
  },
  {
   "cell_type": "markdown",
   "metadata": {},
   "source": [
    "### Working with CSV data files"
   ]
  },
  {
   "cell_type": "code",
   "execution_count": 6,
   "metadata": {},
   "outputs": [
    {
     "data": {
      "text/plain": [
       "(10000,)"
      ]
     },
     "execution_count": 6,
     "metadata": {},
     "output_type": "execute_result"
    }
   ],
   "source": [
    "import numpy as np\n",
    "import urllib.request\n",
    "urllib.request.urlretrieve('https://gist.github.com/BirajCoder/a4ffcb76fd6fb221d76ac2ee2b8584e9/raw/4054f90adfd361b7aa4255e99c2e874664094cea/climate.csv', \n",
    "    'climate.txt')\n",
    "\n",
    "climate_data=np.genfromtxt(\"climate.txt\",delimiter=\",\", skip_header=1)\n",
    "weights=np.array([0.3,0.2,0.5])\n",
    "yields=climate_data@weights\n",
    "yields.shape"
   ]
  },
  {
   "cell_type": "code",
   "execution_count": 7,
   "metadata": {},
   "outputs": [
    {
     "data": {
      "text/plain": [
       "array([[25., 76., 99.],\n",
       "       [39., 65., 70.],\n",
       "       [59., 45., 77.],\n",
       "       ...,\n",
       "       [99., 62., 58.],\n",
       "       [70., 71., 91.],\n",
       "       [92., 39., 76.]])"
      ]
     },
     "execution_count": 7,
     "metadata": {},
     "output_type": "execute_result"
    }
   ],
   "source": [
    "climate_data"
   ]
  },
  {
   "cell_type": "code",
   "execution_count": 8,
   "metadata": {},
   "outputs": [
    {
     "data": {
      "text/plain": [
       "array([[25. , 76. , 99. , 72.2],\n",
       "       [39. , 65. , 70. , 59.7],\n",
       "       [59. , 45. , 77. , 65.2],\n",
       "       ...,\n",
       "       [99. , 62. , 58. , 71.1],\n",
       "       [70. , 71. , 91. , 80.7],\n",
       "       [92. , 39. , 76. , 73.4]])"
      ]
     },
     "execution_count": 8,
     "metadata": {},
     "output_type": "execute_result"
    }
   ],
   "source": [
    "climate_result=np.concatenate((climate_data,yields.reshape(10000,1)),axis=1)\n",
    "climate_result"
   ]
  },
  {
   "cell_type": "code",
   "execution_count": 9,
   "metadata": {},
   "outputs": [],
   "source": [
    "np.savetxt(\"climate_result.txt\",climate_result,fmt=\"%2f\",delimiter=\",\",header='temperature,rainfall,humidity,yeild_apples', comments=\" \")"
   ]
  },
  {
   "cell_type": "code",
   "execution_count": 10,
   "metadata": {},
   "outputs": [],
   "source": [
    "climate_results=np.genfromtxt(\"climate_result.txt\",\n",
    "                              delimiter=\",\")"
   ]
  },
  {
   "cell_type": "code",
   "execution_count": 11,
   "metadata": {},
   "outputs": [
    {
     "data": {
      "text/plain": [
       "(10000, 4)"
      ]
     },
     "execution_count": 11,
     "metadata": {},
     "output_type": "execute_result"
    }
   ],
   "source": [
    "climate_result.shape"
   ]
  },
  {
   "cell_type": "markdown",
   "metadata": {},
   "source": [
    "#### Operation on arrays\n"
   ]
  },
  {
   "cell_type": "code",
   "execution_count": 12,
   "metadata": {},
   "outputs": [
    {
     "data": {
      "text/plain": [
       "array([[1, 2, 3, 0],\n",
       "       [1, 2, 3, 0],\n",
       "       [1, 1, 2, 3]], dtype=int32)"
      ]
     },
     "execution_count": 12,
     "metadata": {},
     "output_type": "execute_result"
    }
   ],
   "source": [
    "arr2 = np.array([[1, 2, 3, 4], \n",
    "                 [5, 6, 7, 8], \n",
    "                 [9, 1, 2, 3]])\n",
    " \n",
    "arr3= np.array([[11, 12, 13, 14], \n",
    "                 [15, 16, 17, 18], \n",
    "                 [19, 11, 12, 13]])\n",
    "\n",
    "arr5= arr2%4\n",
    "arr5"
   ]
  },
  {
   "cell_type": "code",
   "execution_count": 13,
   "metadata": {},
   "outputs": [
    {
     "data": {
      "text/plain": [
       "array([[ True,  True,  True, False],\n",
       "       [False, False, False, False],\n",
       "       [False,  True,  True,  True]])"
      ]
     },
     "execution_count": 13,
     "metadata": {},
     "output_type": "execute_result"
    }
   ],
   "source": [
    "arr4 = np.array([4, 5, 6, 7])\n",
    "arr2==arr5"
   ]
  },
  {
   "cell_type": "code",
   "execution_count": 14,
   "metadata": {},
   "outputs": [
    {
     "data": {
      "text/plain": [
       "array([15.])"
      ]
     },
     "execution_count": 14,
     "metadata": {},
     "output_type": "execute_result"
    }
   ],
   "source": [
    "arr3 = np.array([\n",
    "    [[11, 12, 13, 14], \n",
    "     [13, 14, 15, 19]], \n",
    "    \n",
    "    [[15, 16, 17, 21], \n",
    "     [63, 92, 36, 18]], \n",
    "    \n",
    "    [[98, 32, 81, 23],      \n",
    "     [17, 18, 19.5, 43]]])\n",
    "\n",
    "arr3[[0],[1],[2]]"
   ]
  },
  {
   "cell_type": "code",
   "execution_count": 15,
   "metadata": {},
   "outputs": [
    {
     "data": {
      "text/plain": [
       "array([[[16.]],\n",
       "\n",
       "       [[32.]]])"
      ]
     },
     "execution_count": 15,
     "metadata": {},
     "output_type": "execute_result"
    }
   ],
   "source": [
    "#subarrays_using arrays\n",
    "sarr=arr3[1:,0:1,1:2]\n",
    "sarr"
   ]
  },
  {
   "cell_type": "code",
   "execution_count": 16,
   "metadata": {},
   "outputs": [
    {
     "data": {
      "text/plain": [
       "array([[0.69871487, 0.97957948, 0.650072  , 0.45923816],\n",
       "       [0.32575811, 0.7859661 , 0.47252859, 0.32521753],\n",
       "       [0.71051326, 0.16538073, 0.71974671, 0.37151402],\n",
       "       [0.57528812, 0.41829773, 0.90084932, 0.51318431],\n",
       "       [0.6815731 , 0.75559527, 0.83388463, 0.01593195]])"
      ]
     },
     "execution_count": 16,
     "metadata": {},
     "output_type": "execute_result"
    }
   ],
   "source": [
    "np.random.rand(5,4)"
   ]
  },
  {
   "cell_type": "code",
   "execution_count": 17,
   "metadata": {},
   "outputs": [
    {
     "data": {
      "text/plain": [
       "array([[42, 42, 42],\n",
       "       [42, 42, 42]])"
      ]
     },
     "execution_count": 17,
     "metadata": {},
     "output_type": "execute_result"
    }
   ],
   "source": [
    "np.full([2,3],42)"
   ]
  },
  {
   "cell_type": "code",
   "execution_count": 18,
   "metadata": {},
   "outputs": [
    {
     "data": {
      "text/plain": [
       "array([ 3.,  6.,  9., 12., 15., 18., 21., 24., 27.])"
      ]
     },
     "execution_count": 18,
     "metadata": {},
     "output_type": "execute_result"
    }
   ],
   "source": [
    "np.linspace(3,27,9)\n"
   ]
  },
  {
   "cell_type": "markdown",
   "metadata": {},
   "source": [
    "the numpy version and the configuration"
   ]
  },
  {
   "cell_type": "code",
   "execution_count": 19,
   "metadata": {},
   "outputs": [
    {
     "name": "stdout",
     "output_type": "stream",
     "text": [
      "1.26.4\n",
      "<function show at 0x0000027AE8F849A0>\n"
     ]
    }
   ],
   "source": [
    "import numpy as np\n",
    "print(np.__version__)\n",
    "print(np.show_config)"
   ]
  },
  {
   "cell_type": "code",
   "execution_count": 20,
   "metadata": {},
   "outputs": [
    {
     "name": "stdout",
     "output_type": "stream",
     "text": [
      "[[0.94953885 0.69790937 0.66144126 0.70274445 0.13258703 0.58423046\n",
      "  0.6355819  0.19884717 0.1477805  0.85527749]\n",
      " [0.38989249 0.74995225 0.33325327 0.07346016 0.89167457 0.91454867\n",
      "  0.03867934 0.98379742 0.0110087  0.00507964]\n",
      " [0.7229142  0.48991254 0.74503847 0.93053727 0.24522757 0.85044717\n",
      "  0.43451287 0.78264168 0.79350479 0.09238869]\n",
      " [0.39843757 0.73617017 0.01874052 0.50396421 0.48578443 0.63318472\n",
      "  0.88187631 0.57823352 0.7523957  0.67716601]\n",
      " [0.32919814 0.60359351 0.03904588 0.42800061 0.2056275  0.60459807\n",
      "  0.45054057 0.42498777 0.19744627 0.67718261]\n",
      " [0.47450657 0.54234705 0.35347975 0.78052052 0.01227855 0.39766375\n",
      "  0.32265401 0.00158165 0.75794773 0.02709509]\n",
      " [0.22610772 0.88676882 0.5157118  0.36340147 0.08238152 0.90309061\n",
      "  0.01970562 0.95245321 0.85666095 0.17037547]\n",
      " [0.11249878 0.552371   0.93716167 0.98627108 0.1046891  0.41739218\n",
      "  0.93012556 0.20794155 0.58082716 0.62261601]\n",
      " [0.26370505 0.38298814 0.16520454 0.34804028 0.55511626 0.44138386\n",
      "  0.17332134 0.97350165 0.9698573  0.51387896]\n",
      " [0.70995381 0.27285873 0.35475187 0.96910694 0.29440674 0.57170369\n",
      "  0.30124777 0.09748618 0.47434814 0.01131405]] 0.0015816514338140575\n"
     ]
    }
   ],
   "source": [
    "import numpy as np \n",
    "#creating a null vecot of size 10\n",
    "x=np.zeros(10)\n",
    "y=np.random.random((10,10))\n",
    "z=np.min(y)\n",
    "print(y,z)\n",
    "    "
   ]
  },
  {
   "cell_type": "code",
   "execution_count": 21,
   "metadata": {},
   "outputs": [
    {
     "data": {
      "text/plain": [
       "array([[0., 0., 0., 0., 0.],\n",
       "       [0., 1., 2., 3., 0.],\n",
       "       [0., 4., 5., 6., 0.],\n",
       "       [0., 7., 8., 9., 0.],\n",
       "       [0., 0., 0., 0., 0.]])"
      ]
     },
     "execution_count": 21,
     "metadata": {},
     "output_type": "execute_result"
    }
   ],
   "source": [
    "#How to add a border (filled with 0's) around an existing array?\n",
    "\n",
    "import numpy as np \n",
    "existing_array=np.array([[1,2,3],\n",
    "                         [4,5,6],\n",
    "                         [7,8,9]])\n",
    "rows,columns=existing_array.shape\n",
    "newarray=np.zeros((rows+2,columns+2))\n",
    "newarray[1:-1,1:-1]=existing_array\n",
    "newarray"
   ]
  },
  {
   "cell_type": "code",
   "execution_count": 22,
   "metadata": {},
   "outputs": [
    {
     "data": {
      "text/plain": [
       "array([[1, 0, 1, 0, 1, 0, 1, 0],\n",
       "       [0, 1, 0, 1, 0, 1, 0, 1],\n",
       "       [1, 0, 1, 0, 1, 0, 1, 0],\n",
       "       [0, 1, 0, 1, 0, 1, 0, 1],\n",
       "       [1, 0, 1, 0, 1, 0, 1, 0],\n",
       "       [0, 1, 0, 1, 0, 1, 0, 1],\n",
       "       [1, 0, 1, 0, 1, 0, 1, 0],\n",
       "       [0, 1, 0, 1, 0, 1, 0, 1]])"
      ]
     },
     "execution_count": 22,
     "metadata": {},
     "output_type": "execute_result"
    }
   ],
   "source": [
    "#Chessboard pattern\n",
    "chessboard_matrix=np.zeros((8,8),dtype=int)\n",
    "chessboard_matrix[1::2,1::2]=1\n",
    "chessboard_matrix[::2,::2]=1\n",
    "chessboard_matrix"
   ]
  },
  {
   "cell_type": "code",
   "execution_count": 23,
   "metadata": {},
   "outputs": [
    {
     "data": {
      "text/plain": [
       "(1, 5, 3)"
      ]
     },
     "execution_count": 23,
     "metadata": {},
     "output_type": "execute_result"
    }
   ],
   "source": [
    "import numpy as np\n",
    "flat_index=99\n",
    "shape=(6,7,8)\n",
    "index_xyz=np.unravel_index(99,shape)\n",
    "index_xyz"
   ]
  },
  {
   "cell_type": "code",
   "execution_count": 24,
   "metadata": {},
   "outputs": [
    {
     "data": {
      "text/plain": [
       "array([ 1, -4, -5, -6,  8, 10])"
      ]
     },
     "execution_count": 24,
     "metadata": {},
     "output_type": "execute_result"
    }
   ],
   "source": [
    "# Given a 1D array, negate all elements which are between 3 and 8, in place.\n",
    "import numpy as np\n",
    "array=np.array([1,4,5,6,8,10])\n",
    "array[(array > 3) & (array<8)]*=-1\n",
    "array"
   ]
  },
  {
   "cell_type": "code",
   "execution_count": 25,
   "metadata": {},
   "outputs": [
    {
     "name": "stderr",
     "output_type": "stream",
     "text": [
      "C:\\Users\\Sagar Bisht\\AppData\\Local\\Temp\\ipykernel_7744\\4230900462.py:2: RuntimeWarning: invalid value encountered in sqrt\n",
      "  np.sqrt(-1)==np.emath.sqrt(-1)\n"
     ]
    },
    {
     "data": {
      "text/plain": [
       "False"
      ]
     },
     "execution_count": 25,
     "metadata": {},
     "output_type": "execute_result"
    }
   ],
   "source": [
    "import numpy as np\n",
    "np.sqrt(-1)==np.emath.sqrt(-1)"
   ]
  },
  {
   "cell_type": "code",
   "execution_count": 26,
   "metadata": {},
   "outputs": [
    {
     "name": "stdout",
     "output_type": "stream",
     "text": [
      "yesterday 2024-05-10\n",
      "today 2024-05-11\n",
      "tomorrow 2024-05-12\n"
     ]
    }
   ],
   "source": [
    "from datetime import datetime, timedelta\n",
    "\n",
    "today=datetime.now().date()\n",
    "\n",
    "yesterday=today-timedelta(days=1)\n",
    "tomorrow=today+timedelta(days=1)\n",
    "\n",
    "print(\"yesterday\", yesterday)\n",
    "print(\"today\", today)\n",
    "print(\"tomorrow\", tomorrow)\n"
   ]
  },
  {
   "cell_type": "code",
   "execution_count": 27,
   "metadata": {},
   "outputs": [
    {
     "name": "stdout",
     "output_type": "stream",
     "text": [
      "2024-07-01\n",
      "2024-07-02\n",
      "2024-07-03\n",
      "2024-07-04\n",
      "2024-07-05\n",
      "2024-07-06\n",
      "2024-07-07\n",
      "2024-07-08\n",
      "2024-07-09\n",
      "2024-07-10\n",
      "2024-07-11\n",
      "2024-07-12\n",
      "2024-07-13\n",
      "2024-07-14\n",
      "2024-07-15\n",
      "2024-07-16\n",
      "2024-07-17\n",
      "2024-07-18\n",
      "2024-07-19\n",
      "2024-07-20\n",
      "2024-07-21\n",
      "2024-07-22\n",
      "2024-07-23\n",
      "2024-07-24\n",
      "2024-07-25\n",
      "2024-07-26\n",
      "2024-07-27\n",
      "2024-07-28\n",
      "2024-07-29\n",
      "2024-07-30\n",
      "2024-07-31\n"
     ]
    }
   ],
   "source": [
    "from datetime import datetime, timedelta, date\n",
    "start_date=date(2024,7,1)\n",
    "days_in_july= 31\n",
    "for i in range(days_in_july):\n",
    "    july_dates=start_date+timedelta(days=i)\n",
    "    print(july_dates)"
   ]
  },
  {
   "cell_type": "code",
   "execution_count": 28,
   "metadata": {},
   "outputs": [
    {
     "data": {
      "text/plain": [
       "array([[0.        , 0.16666667, 0.33333333, 0.5       , 0.66666667],\n",
       "       [0.83333333, 1.        , 1.16666667, 1.33333333, 1.5       ],\n",
       "       [1.66666667, 1.83333333, 2.        , 2.16666667, 2.33333333],\n",
       "       [2.5       , 2.66666667, 2.83333333, 3.        , 3.16666667],\n",
       "       [3.33333333, 3.5       , 3.66666667, 3.83333333, 4.        ]])"
      ]
     },
     "execution_count": 28,
     "metadata": {},
     "output_type": "execute_result"
    }
   ],
   "source": [
    "import numpy as np \n",
    "A=np.linspace(0,4,25)\n",
    "A=A.reshape(5,5)\n",
    "A"
   ]
  },
  {
   "cell_type": "code",
   "execution_count": 29,
   "metadata": {},
   "outputs": [
    {
     "data": {
      "text/plain": [
       "numpy.ndarray"
      ]
     },
     "execution_count": 29,
     "metadata": {},
     "output_type": "execute_result"
    }
   ],
   "source": [
    " #Consider a generator function that generates 10 integers and use it to build an array\n",
    "import numpy as np\n",
    "import random\n",
    "def generator_():\n",
    "    list=[]\n",
    "    for i in range(10):\n",
    "        a=random.randint(0,100)\n",
    "        list.append(a)\n",
    "    array=np.array(list)\n",
    "    return array\n",
    "type(generator_())\n",
    "     "
   ]
  },
  {
   "cell_type": "code",
   "execution_count": 30,
   "metadata": {},
   "outputs": [
    {
     "data": {
      "text/plain": [
       "array([0.09090909, 0.18181818, 0.27272727, 0.36363636, 0.45454545,\n",
       "       0.54545455, 0.63636364, 0.72727273, 0.81818182, 0.90909091])"
      ]
     },
     "execution_count": 30,
     "metadata": {},
     "output_type": "execute_result"
    }
   ],
   "source": [
    "#Create a vector of size 10 with values ranging from 0 to 1, both excluded (★★☆)\n",
    "import numpy\n",
    "array=np.linspace(0,1,12)[1:-1]\n",
    "array"
   ]
  },
  {
   "cell_type": "code",
   "execution_count": 31,
   "metadata": {},
   "outputs": [
    {
     "name": "stdout",
     "output_type": "stream",
     "text": [
      "[-0.86187481  1.16957624 -1.04850704  0.67562354  0.84375992  0.96450435\n",
      " -0.58414153  0.46229945  0.48027079  1.239549  ]\n",
      "[-1.04850704 -0.86187481 -0.58414153  0.46229945  0.48027079  0.67562354\n",
      "  0.84375992  0.96450435  1.16957624  1.239549  ]\n"
     ]
    }
   ],
   "source": [
    "# Create a random vector of size 10 and sort it (★★☆\n",
    "import random\n",
    "import numpy as np\n",
    "array=np.random.randn(10)\n",
    "sorted=np.sort(array)\n",
    "print(array)\n",
    "print(sorted)"
   ]
  },
  {
   "cell_type": "code",
   "execution_count": 32,
   "metadata": {},
   "outputs": [
    {
     "name": "stdout",
     "output_type": "stream",
     "text": [
      "[0.84351069 0.11031504 0.70228671 0.02821002 0.1237885  0.37757429\n",
      " 0.66069348 0.52522442 0.69273286 0.11584955] [0.44089379 0.9985985  0.25730701 0.75133098 0.90824387 0.02990541\n",
      " 0.38436749 0.14793865 0.63970978 0.28431253]\n",
      "[0.95178654 1.00467326 0.74793952 0.75186039 0.91664089 0.37875675\n",
      " 0.76436525 0.54566156 0.94292493 0.30700934] [0.48163365 1.46077257 0.3511961  1.53326722 1.43533665 0.07903904\n",
      " 0.52690252 0.2745543  0.74562525 1.18386473]\n"
     ]
    }
   ],
   "source": [
    "import random\n",
    "import numpy as np \n",
    "cartesian_coordinates=np.random.random((10,2))\n",
    "x,y=cartesian_coordinates[:,0],cartesian_coordinates[:,1]\n",
    "print(x,y)\n",
    "radius=np.sqrt(x**2+y**2)\n",
    "angle=np.arctan2(y,x)\n",
    "print(radius, angle)"
   ]
  },
  {
   "cell_type": "code",
   "execution_count": 33,
   "metadata": {},
   "outputs": [
    {
     "name": "stdout",
     "output_type": "stream",
     "text": [
      "[0.83551575 0.89184279 0.71233371 0.71015517 0.33760722 0.0296639\n",
      " 0.71271233 0.3216803  0.75747266 0.48963531]\n",
      "[0.83551575 0.         0.71233371 0.71015517 0.33760722 0.0296639\n",
      " 0.71271233 0.3216803  0.75747266 0.48963531]\n"
     ]
    }
   ],
   "source": [
    "#Create random vector of size 10 and replace the maximum value by 0\n",
    "import numpy as np \n",
    "import random\n",
    "random_vector=np.random.random(10)\n",
    "index_max=np.argmax(random_vector)\n",
    "print(random_vector)\n",
    "random_vector[index_max]=0\n",
    "print(random_vector)\n"
   ]
  },
  {
   "cell_type": "code",
   "execution_count": null,
   "metadata": {},
   "outputs": [],
   "source": []
  }
 ],
 "metadata": {
  "kernelspec": {
   "display_name": "Python 3",
   "language": "python",
   "name": "python3"
  },
  "language_info": {
   "codemirror_mode": {
    "name": "ipython",
    "version": 3
   },
   "file_extension": ".py",
   "mimetype": "text/x-python",
   "name": "python",
   "nbconvert_exporter": "python",
   "pygments_lexer": "ipython3",
   "version": "3.12.1"
  }
 },
 "nbformat": 4,
 "nbformat_minor": 2
}
